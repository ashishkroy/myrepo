{
 "cells": [
  {
   "cell_type": "markdown",
   "id": "e1b360bc-b5a8-4579-8a3e-97d16e237d37",
   "metadata": {},
   "source": [
    "# Titanic Dataset: Family Size Impact on Survival and Fare\n",
    "\n",
    "This analysis explores how **family size** affected passenger **survival rate** and **fare paid** aboard the Titanic.\n",
    "\n",
    "We:\n",
    "- Load and inspect Titanic data\n",
    "- Engineer a `FamilySize` feature\n",
    "- Classify passengers into family size categories: Solo, Small, Medium, Large\n",
    "- Analyze average **fare** and **survival rate** by class and family size\n"
   ]
  },
  {
   "cell_type": "code",
   "execution_count": 3,
   "id": "9cd648ac-2650-4bab-83c9-bce42f5d7481",
   "metadata": {},
   "outputs": [],
   "source": [
    "import pandas as pd\n",
    "import numpy as np\n",
    "import matplotlib.pyplot as plt\n",
    "from pyhere import here\n",
    "import os\n"
   ]
  },
  {
   "cell_type": "markdown",
   "id": "615ad67a-cf1d-42b9-8c00-4b9348479c8d",
   "metadata": {},
   "source": [
    "## Step 1: Load and Inspect Dataset\n",
    "\n",
    "We use `pyhere` to load the data in a reproducible, cross-platform safe way. Below, we inspect the dataset for shape, missing values, and column types.\n"
   ]
  },
  {
   "cell_type": "code",
   "execution_count": 6,
   "id": "0b469b99-d7b0-4943-8563-ba652598156c",
   "metadata": {},
   "outputs": [],
   "source": [
    "file_path = here(r\"titanic_train.csv\")\n",
    "if not os.path.exists(file_path):\n",
    "    raise FileNotFoundError(f\"File not found: {file_path}\")\n",
    "\n",
    "titanic_df = pd.read_csv(file_path)\n"
   ]
  },
  {
   "cell_type": "code",
   "execution_count": 8,
   "id": "90fa84bd-9602-4a05-a7cf-efb6a29fce6e",
   "metadata": {},
   "outputs": [
    {
     "name": "stdout",
     "output_type": "stream",
     "text": [
      "<class 'pandas.core.frame.DataFrame'>\n",
      "RangeIndex: 891 entries, 0 to 890\n",
      "Data columns (total 12 columns):\n",
      " #   Column       Non-Null Count  Dtype  \n",
      "---  ------       --------------  -----  \n",
      " 0   PassengerId  891 non-null    int64  \n",
      " 1   Survived     891 non-null    int64  \n",
      " 2   Pclass       891 non-null    int64  \n",
      " 3   Name         891 non-null    object \n",
      " 4   Sex          891 non-null    object \n",
      " 5   Age          714 non-null    float64\n",
      " 6   SibSp        891 non-null    int64  \n",
      " 7   Parch        891 non-null    int64  \n",
      " 8   Ticket       891 non-null    object \n",
      " 9   Fare         891 non-null    float64\n",
      " 10  Cabin        204 non-null    object \n",
      " 11  Embarked     889 non-null    object \n",
      "dtypes: float64(2), int64(5), object(5)\n",
      "memory usage: 83.7+ KB\n"
     ]
    },
    {
     "data": {
      "text/plain": [
       "PassengerId      0\n",
       "Survived         0\n",
       "Pclass           0\n",
       "Name             0\n",
       "Sex              0\n",
       "Age            177\n",
       "SibSp            0\n",
       "Parch            0\n",
       "Ticket           0\n",
       "Fare             0\n",
       "Cabin          687\n",
       "Embarked         2\n",
       "dtype: int64"
      ]
     },
     "execution_count": 8,
     "metadata": {},
     "output_type": "execute_result"
    }
   ],
   "source": [
    "titanic_df.head()\n",
    "titanic_df.info()\n",
    "titanic_df.isna().sum()"
   ]
  },
  {
   "cell_type": "markdown",
   "id": "4c0b9947-5d1b-476a-989e-b54e0896deed",
   "metadata": {},
   "source": [
    "Column | Missing | Handling Approach\n",
    "\n",
    "Age | 177 | Fill with median (or predictive imputation)\n",
    "\n",
    "Cabin | 687 | Drop column (too sparse to be useful)\n",
    "\n",
    "Embarked | 2 | Fill with mode (most common embarkation point)"
   ]
  },
  {
   "cell_type": "code",
   "execution_count": 11,
   "id": "b2784d91-d0ec-451b-9e5c-5a5f994c0111",
   "metadata": {},
   "outputs": [
    {
     "name": "stdout",
     "output_type": "stream",
     "text": [
      "Age         0\n",
      "Fare        0\n",
      "Embarked    0\n",
      "dtype: int64\n"
     ]
    },
    {
     "name": "stderr",
     "output_type": "stream",
     "text": [
      "C:\\Users\\ASUS\\AppData\\Local\\Temp\\ipykernel_6156\\3541562834.py:5: FutureWarning: A value is trying to be set on a copy of a DataFrame or Series through chained assignment using an inplace method.\n",
      "The behavior will change in pandas 3.0. This inplace method will never work because the intermediate object on which we are setting values always behaves as a copy.\n",
      "\n",
      "For example, when doing 'df[col].method(value, inplace=True)', try using 'df.method({col: value}, inplace=True)' or df[col] = df[col].method(value) instead, to perform the operation inplace on the original object.\n",
      "\n",
      "\n",
      "  titanic_df[\"Age\"].fillna(titanic_df[\"Age\"].median(), inplace=True)\n",
      "C:\\Users\\ASUS\\AppData\\Local\\Temp\\ipykernel_6156\\3541562834.py:8: FutureWarning: A value is trying to be set on a copy of a DataFrame or Series through chained assignment using an inplace method.\n",
      "The behavior will change in pandas 3.0. This inplace method will never work because the intermediate object on which we are setting values always behaves as a copy.\n",
      "\n",
      "For example, when doing 'df[col].method(value, inplace=True)', try using 'df.method({col: value}, inplace=True)' or df[col] = df[col].method(value) instead, to perform the operation inplace on the original object.\n",
      "\n",
      "\n",
      "  titanic_df[\"Embarked\"].fillna(titanic_df[\"Embarked\"].mode()[0], inplace=True)\n"
     ]
    }
   ],
   "source": [
    "# Drop highly sparse column\n",
    "titanic_df.drop(columns=[\"Cabin\"], inplace=True)\n",
    "\n",
    "# Fill missing Age with median\n",
    "titanic_df[\"Age\"].fillna(titanic_df[\"Age\"].median(), inplace=True)\n",
    "\n",
    "# Fill missing Embarked with mode\n",
    "titanic_df[\"Embarked\"].fillna(titanic_df[\"Embarked\"].mode()[0], inplace=True)\n",
    "\n",
    "# Confirm no missing values left in critical columns\n",
    "print(titanic_df[[\"Age\", \"Fare\", \"Embarked\"]].isna().sum())"
   ]
  },
  {
   "cell_type": "markdown",
   "id": "7179d9f6-ea53-40fc-a0b0-516f2180d278",
   "metadata": {},
   "source": [
    "## Step 2: Family Size Features\n",
    "\n",
    "We compute a new column `FamilySize` using:"
   ]
  },
  {
   "cell_type": "markdown",
   "id": "a127492b-4b45-4307-9fcb-026eb50527d4",
   "metadata": {},
   "source": [
    "**Formula:** FamilySize = SibSp + Parch + 1\n",
    "\n",
    "(SibSp: Siblings/Spouses aboard, Parch: Parents/Children aboard)\n",
    "\n",
    "We then categorize passengers based on size:\n",
    "\n",
    "Solo (1)\n",
    "\n",
    "Small (2–4)\n",
    "\n",
    "Medium (5–7)\n",
    "\n",
    "Large (8–11)"
   ]
  },
  {
   "cell_type": "code",
   "execution_count": 15,
   "id": "2b572c90-efd1-40b4-bc5e-74541de32a90",
   "metadata": {},
   "outputs": [],
   "source": [
    "# Define family categories\n",
    "fam_cat = {\n",
    "    \"Solo\": [1, 1],\n",
    "    \"Small\": [2, 4],\n",
    "    \"Medium\": [5, 7],\n",
    "    \"Large\": [8, 11]\n",
    "}\n",
    "\n",
    "# Classification function\n",
    "def assign_family_category(family_size):\n",
    "    for category, (lower, upper) in fam_cat.items():\n",
    "        if lower <= family_size <= upper:\n",
    "            return category\n",
    "    return \"Unknown\"\n",
    "\n",
    "# Compute family size\n",
    "titanic_df[\"FamilySize\"] = titanic_df[\"SibSp\"] + titanic_df[\"Parch\"] + 1\n",
    "titanic_df[\"FamilyCategory\"] = titanic_df[\"FamilySize\"].apply(assign_family_category)"
   ]
  },
  {
   "cell_type": "markdown",
   "id": "bb1564ed-7735-46e1-a280-bdb5cd6957fa",
   "metadata": {},
   "source": [
    "## Step 3: Save Cleaned Data\n",
    "\n",
    "We save the processed dataset for further reuse."
   ]
  },
  {
   "cell_type": "code",
   "execution_count": 18,
   "id": "58a2bd67-eb21-47a0-b6ff-579a7220ea08",
   "metadata": {},
   "outputs": [
    {
     "name": "stdout",
     "output_type": "stream",
     "text": [
      "Saved to: C:\\Users\\ASUS\\titanic_df_with_family_size.csv\n"
     ]
    }
   ],
   "source": [
    "output_file = here(\"titanic_df_with_family_size.csv\")\n",
    "titanic_df.to_csv(output_file, index=False)\n",
    "print(f\"Saved to: {output_file}\")"
   ]
  },
  {
   "cell_type": "markdown",
   "id": "7ee2718b-26b5-4a0b-b532-84115729a9be",
   "metadata": {},
   "source": [
    "## Step 4: Analyze Survival Rate and Fare by Group\n",
    "\n",
    "Now we compute a **pivot table** grouped by:\n",
    "- Passenger class (`Pclass`)\n",
    "- Family category (`FamilyCategory`)\n",
    "\n",
    "The table shows average:\n",
    "- Survival rate\n",
    "- Fare paid"
   ]
  },
  {
   "cell_type": "markdown",
   "id": "348e89c9-fa4a-4bc3-8920-a7efbad7191f",
   "metadata": {},
   "source": [
    "**Pivot Table Analysis**"
   ]
  },
  {
   "cell_type": "code",
   "execution_count": 22,
   "id": "215675cf-5f52-4ef3-9be7-f222b5d9a6b6",
   "metadata": {},
   "outputs": [
    {
     "data": {
      "text/html": [
       "<div>\n",
       "<style scoped>\n",
       "    .dataframe tbody tr th:only-of-type {\n",
       "        vertical-align: middle;\n",
       "    }\n",
       "\n",
       "    .dataframe tbody tr th {\n",
       "        vertical-align: top;\n",
       "    }\n",
       "\n",
       "    .dataframe thead th {\n",
       "        text-align: right;\n",
       "    }\n",
       "</style>\n",
       "<table border=\"1\" class=\"dataframe\">\n",
       "  <thead>\n",
       "    <tr style=\"text-align: right;\">\n",
       "      <th></th>\n",
       "      <th>Pclass</th>\n",
       "      <th>FamilyCategory</th>\n",
       "      <th>Average_Survival_Rate</th>\n",
       "      <th>Average_Fare</th>\n",
       "    </tr>\n",
       "  </thead>\n",
       "  <tbody>\n",
       "    <tr>\n",
       "      <th>0</th>\n",
       "      <td>1</td>\n",
       "      <td>Medium</td>\n",
       "      <td>262.791667</td>\n",
       "      <td>0.666667</td>\n",
       "    </tr>\n",
       "    <tr>\n",
       "      <th>1</th>\n",
       "      <td>1</td>\n",
       "      <td>Small</td>\n",
       "      <td>95.647114</td>\n",
       "      <td>0.732673</td>\n",
       "    </tr>\n",
       "    <tr>\n",
       "      <th>2</th>\n",
       "      <td>1</td>\n",
       "      <td>Solo</td>\n",
       "      <td>63.672514</td>\n",
       "      <td>0.532110</td>\n",
       "    </tr>\n",
       "    <tr>\n",
       "      <th>3</th>\n",
       "      <td>2</td>\n",
       "      <td>Medium</td>\n",
       "      <td>20.875000</td>\n",
       "      <td>1.000000</td>\n",
       "    </tr>\n",
       "    <tr>\n",
       "      <th>4</th>\n",
       "      <td>2</td>\n",
       "      <td>Small</td>\n",
       "      <td>29.451496</td>\n",
       "      <td>0.628205</td>\n",
       "    </tr>\n",
       "    <tr>\n",
       "      <th>5</th>\n",
       "      <td>2</td>\n",
       "      <td>Solo</td>\n",
       "      <td>14.066106</td>\n",
       "      <td>0.346154</td>\n",
       "    </tr>\n",
       "    <tr>\n",
       "      <th>6</th>\n",
       "      <td>3</td>\n",
       "      <td>Large</td>\n",
       "      <td>59.096154</td>\n",
       "      <td>0.000000</td>\n",
       "    </tr>\n",
       "    <tr>\n",
       "      <th>7</th>\n",
       "      <td>3</td>\n",
       "      <td>Medium</td>\n",
       "      <td>29.932117</td>\n",
       "      <td>0.097561</td>\n",
       "    </tr>\n",
       "    <tr>\n",
       "      <th>8</th>\n",
       "      <td>3</td>\n",
       "      <td>Small</td>\n",
       "      <td>15.177730</td>\n",
       "      <td>0.407080</td>\n",
       "    </tr>\n",
       "    <tr>\n",
       "      <th>9</th>\n",
       "      <td>3</td>\n",
       "      <td>Solo</td>\n",
       "      <td>9.272052</td>\n",
       "      <td>0.212963</td>\n",
       "    </tr>\n",
       "    <tr>\n",
       "      <th>10</th>\n",
       "      <td>All</td>\n",
       "      <td></td>\n",
       "      <td>32.204208</td>\n",
       "      <td>0.383838</td>\n",
       "    </tr>\n",
       "  </tbody>\n",
       "</table>\n",
       "</div>"
      ],
      "text/plain": [
       "   Pclass FamilyCategory  Average_Survival_Rate  Average_Fare\n",
       "0       1         Medium             262.791667      0.666667\n",
       "1       1          Small              95.647114      0.732673\n",
       "2       1           Solo              63.672514      0.532110\n",
       "3       2         Medium              20.875000      1.000000\n",
       "4       2          Small              29.451496      0.628205\n",
       "5       2           Solo              14.066106      0.346154\n",
       "6       3          Large              59.096154      0.000000\n",
       "7       3         Medium              29.932117      0.097561\n",
       "8       3          Small              15.177730      0.407080\n",
       "9       3           Solo               9.272052      0.212963\n",
       "10    All                             32.204208      0.383838"
      ]
     },
     "execution_count": 22,
     "metadata": {},
     "output_type": "execute_result"
    }
   ],
   "source": [
    "pivot_table = titanic_df.pivot_table(index=[\"Pclass\", \"FamilyCategory\"],\n",
    "                                     values=[\"Survived\", \"Fare\"],\n",
    "                                     aggfunc={\"Survived\": \"mean\", \"Fare\": \"mean\"},\n",
    "                                     fill_value=0,\n",
    "                                     margins=True).reset_index()\n",
    "\n",
    "pivot_table.columns = [\"Pclass\", \"FamilyCategory\", \"Average_Survival_Rate\", \"Average_Fare\"]\n",
    "pivot_table"
   ]
  },
  {
   "cell_type": "markdown",
   "id": "1758a462-8c0d-43ab-b3aa-67c49ae5c66e",
   "metadata": {},
   "source": [
    "## Step 5: Visualize the Results\n",
    "\n",
    "Bar plot: Survival rate by Family Category and Pclass."
   ]
  },
  {
   "cell_type": "code",
   "execution_count": 25,
   "id": "2fac3511-93e4-4bf6-859a-b7f6228cd8e2",
   "metadata": {},
   "outputs": [
    {
     "data": {
      "image/png": "[encoded data removed]",
      "text/plain": [
       "<Figure size 1000x600 with 1 Axes>"
      ]
     },
     "metadata": {},
     "output_type": "display_data"
    }
   ],
   "source": [
    "import seaborn as sns\n",
    "plt.figure(figsize=(10, 6))\n",
    "sns.barplot(data=pivot_table[pivot_table[\"Pclass\"] != \"All\"],\n",
    "            x=\"FamilyCategory\", y=\"Average_Survival_Rate\", hue=\"Pclass\")\n",
    "plt.title(\"Survival Rate by Family Category and Class\")\n",
    "plt.ylabel(\"Survival Rate\")\n",
    "plt.xlabel(\"Family Category\")\n",
    "plt.tight_layout()\n",
    "plt.show()"
   ]
  },
  {
   "cell_type": "code",
   "execution_count": null,
   "id": "cca7cb9d-14be-4c77-bf16-f29a64332bc3",
   "metadata": {},
   "outputs": [],
   "source": []
  }
 ],
 "metadata": {
  "kernelspec": {
   "display_name": "Python 3 (ipykernel)",
   "language": "python",
   "name": "python3"
  },
  "language_info": {
   "codemirror_mode": {
    "name": "ipython",
    "version": 3
   },
   "file_extension": ".py",
   "mimetype": "text/x-python",
   "name": "python",
   "nbconvert_exporter": "python",
   "pygments_lexer": "ipython3",
   "version": "3.12.7"
  }
 },
 "nbformat": 4,
 "nbformat_minor": 5
}
